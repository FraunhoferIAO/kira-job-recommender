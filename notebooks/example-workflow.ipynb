{
 "cells": [
  {
   "cell_type": "markdown",
   "metadata": {},
   "source": [
    "# Workflow Demonstration\n",
    "\n"
   ]
  },
  {
   "cell_type": "code",
   "execution_count": 1,
   "metadata": {},
   "outputs": [],
   "source": [
    "import sys\n",
    "import os\n",
    "\n",
    "parent_dir = os.path.abspath(os.path.join(os.getcwd(), os.pardir))\n",
    "# Add this directory to the system path\n",
    "sys.path.append(parent_dir)\n",
    "\n",
    "import src.pipeline.data_preparation_pipeline as data_pipe\n",
    "import src.pipeline.recommender_pipeline as recommender_pipe\n",
    "import pandas as pd\n",
    "\n",
    "import src.models.mapper.skill_mapper as skill_mapper\n",
    "import src.models.transformer.occ_transformer as occ_transformer\n",
    "import src.models.occ_mapper.occ_mapper as occ_mapper\n",
    "import src.models.matcher.matcher as matcher\n",
    "import src.models.recommender.recommender as recommender\n",
    "import src.data.renaming_helper as renaming_helper\n",
    "import src.models.matcher.matcher as matcher\n",
    "import src.data.esco_helper as EscoHelper"
   ]
  },
  {
   "cell_type": "markdown",
   "metadata": {},
   "source": [
    "## Data Preparation\n",
    "Here, we set up paths to data files and initialize various components like the SkillMapper, OccFSMapper, and OccTransformer. The mapper is used to map skills, while the transformer converts user profiles based on their reference data. We also load user profiles into a DataFrame and prepare them for further processing. When using the framework this part ist convered within the source files of the api folder. "
   ]
  },
  {
   "cell_type": "code",
   "execution_count": 2,
   "metadata": {},
   "outputs": [],
   "source": [
    "\n",
    "data_path = \"../data/\"\n",
    "esco_path = \"../data/ESCO/\"\n",
    "path_to_mapping = data_path + \"FutureSkills/FutureSkillMappings/processed/MappingTable_test_new.csv\"\n",
    "\n",
    "\n",
    "mapper = skill_mapper.SkillMapper(path_to_mapping)\n",
    "\n",
    "# initialize occFSmapper with file from OccupationFSProfiles vanilla\n",
    "occ_fs_mapper = occ_mapper.OccFSMapper()\n",
    "\n",
    "# initialize transformer with reference user profiles\n",
    "reference_user_profiles = \"../data/UserData/reference_user_profiles_20240528T143048Z.csv\"\n",
    "# reference_user_profiles = r'path_to\\reference_user_profiles.csv'\n",
    "\n",
    "transformer = occ_transformer.OccTransformer(reference_user_profiles=reference_user_profiles)\n",
    "esco_helper = EscoHelper.esco_helper(esco_path)\n",
    "\n",
    "# import user profiles to get profile of one user\n",
    "user_profiles = pd.read_csv(reference_user_profiles, index_col=0)\n",
    "ratings = renaming_helper.rename_columns(user_profiles.iloc[:, 8:18])\n",
    "job_matcher = matcher.JobMatcher()\n",
    "job_recommender = recommender.JobRecommender(ratings.iloc[1].values)\n"
   ]
  },
  {
   "cell_type": "markdown",
   "metadata": {},
   "source": [
    "## Running the Data Preparation Pipeline\n",
    "In this part, we instantiate and run the data preparation pipeline. The pipeline processes the user profiles, transforming them using the mappers and transformers initialized earlier. The output, transformed_profiles, is the processed data ready for use in the recommendation system."
   ]
  },
  {
   "cell_type": "code",
   "execution_count": 3,
   "metadata": {},
   "outputs": [
    {
     "name": "stdout",
     "output_type": "stream",
     "text": [
      "MappingTable_test_new_k=10_20240528T143048Z.csv\n",
      "is already available!\n"
     ]
    }
   ],
   "source": [
    "# data preparation pipeline\n",
    "datapipe = data_pipe.DataPrepPipeline(data_path=data_path,mapper=mapper, occ_mapper=occ_fs_mapper,\n",
    "                         transformer=transformer)\n",
    "transformed_profiles = datapipe.run()"
   ]
  },
  {
   "cell_type": "markdown",
   "metadata": {},
   "source": [
    "## Preparing an Example User Profile, Renaming Columns and Adding Job History\n",
    "This section selects an example user profile based on the index and prepares it for the recommendation process. The selected profile will be the target for which job recommendations are generated. To ensure consistency, we rename the columns in both the user profiles and the target profile to match the format used in the transformed profiles. Furthermore, we add a job history example for testing. This data simulates the user's past job experiences, which can influence the job recommendation process."
   ]
  },
  {
   "cell_type": "code",
   "execution_count": 13,
   "metadata": {},
   "outputs": [],
   "source": [
    "target_profile = user_profiles.loc[46].to_frame().T\n",
    "job_recommendations = \"http://data.europa.eu/esco/occupation/4163b31e-440b-4991-b5c3-48d0515250ef,http://data.europa.eu/esco/occupation/4a3f40a8-0587-494c-b8d3-7098b8c5992f,http://data.europa.eu/esco/occupation/8f9b20ff-86b3-478c-8054-73a220973d6f,http://data.europa.eu/esco/occupation/c2efadc4-6f47-4f34-997b-dd80aba609dd\"\n",
    "job_ratings = \"0,0,0,-1\"\n",
    "target_profile['job_recommendations'] = job_recommendations\n",
    "target_profile['job_ratings'] = job_ratings\n"
   ]
  },
  {
   "cell_type": "code",
   "execution_count": 14,
   "metadata": {},
   "outputs": [],
   "source": [
    "# rename user_profile und target_profile columns to match the transformed_profiles columns before passing to recommender pipeline\n",
    "column_map = {\n",
    "    'self_initiative': 'FS1',\n",
    "    'flexibility': 'FS2',\n",
    "    'leadership': 'FS3',\n",
    "    'communication': 'FS4',\n",
    "    'creativity': 'FS5',\n",
    "    'customer_orientation': 'FS6',\n",
    "    'organization': 'FS7',\n",
    "    'problem_solving': 'FS8',\n",
    "    'resilience': 'FS9',\n",
    "    'goal_orientation': 'FS10'\n",
    "}\n",
    "\n",
    "user_profiles.rename(columns=column_map, inplace=True)\n",
    "target_profile.rename(columns=column_map, inplace=True)\n",
    "transformed_profiles.rename_axis('conceptUri', inplace=True)"
   ]
  },
  {
   "cell_type": "code",
   "execution_count": 15,
   "metadata": {},
   "outputs": [],
   "source": [
    "# Add job_history example for testing\n",
    "\n",
    "job_history = [\n",
    "    {\"http://data.europa.eu/esco/occupation/258e46f9-0075-4a2e-adae-1ff0477e0f30\": True},\n",
    "    {\"http://data.europa.eu/esco/occupation/2f7f5c84-b9b3-41ea-aa5f-5997d0873141\": False}\n",
    "]"
   ]
  },
  {
   "cell_type": "markdown",
   "metadata": {},
   "source": [
    "## Running the Recommender Pipeline\n",
    "Finally, we set up and run the recommender pipeline. The pipeline takes the prepared profiles, user preferences, and job history as input and generates job recommendations. The recommended job is then looked up using the EscoHelper to retrieve the job label, which is printed as the final output."
   ]
  },
  {
   "cell_type": "code",
   "execution_count": 16,
   "metadata": {},
   "outputs": [
    {
     "name": "stdout",
     "output_type": "stream",
     "text": [
      "found 1 user profiles that rated the job the same and share preferences\n",
      "found 0 user profiles that rated the job the same but dont share preferences\n",
      "========================================\n",
      "Jobvorschlag:  Regisseur/Regisseurin\n"
     ]
    },
    {
     "name": "stderr",
     "output_type": "stream",
     "text": [
      "c:\\Users\\SAE\\Desktop\\VS_Code\\KITA\\kira-webscraping\\src\\models\\recommender\\recommender.py:127: FutureWarning: The behavior of DataFrame concatenation with empty or all-NA entries is deprecated. In a future version, this will no longer exclude empty or all-NA columns when determining the result dtypes. To retain the old behavior, exclude the relevant entries before the concat operation.\n",
      "  final_recom = pd.concat([recommended_jobs, recommended_jobs_broader_occ], axis=0, ignore_index=False)\n"
     ]
    }
   ],
   "source": [
    "# recommender pipeline\n",
    "recom_pipe = recommender_pipe.RecommenderPipeline(data_path=data_path, matcher=job_matcher, recommender=job_recommender)\n",
    "\n",
    "recommendation = recom_pipe.run(target_profile=target_profile, preferences=[1, 4, 5, 6], transformed_profiles=transformed_profiles, user_profiles=user_profiles, job_history=job_history)\n",
    "print('Jobvorschlag: ', esco_helper.look_up_label(recommendation[\"conceptUri\"][0]))\n"
   ]
  }
 ],
 "metadata": {
  "kernelspec": {
   "display_name": ".venv",
   "language": "python",
   "name": "python3"
  },
  "language_info": {
   "codemirror_mode": {
    "name": "ipython",
    "version": 3
   },
   "file_extension": ".py",
   "mimetype": "text/x-python",
   "name": "python",
   "nbconvert_exporter": "python",
   "pygments_lexer": "ipython3",
   "version": "3.10.6"
  }
 },
 "nbformat": 4,
 "nbformat_minor": 2
}
